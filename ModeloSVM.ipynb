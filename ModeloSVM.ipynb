{
  "nbformat": 4,
  "nbformat_minor": 0,
  "metadata": {
    "colab": {
      "provenance": [],
      "collapsed_sections": [
        "j3i08NX_NNr-"
      ]
    },
    "kernelspec": {
      "name": "python3",
      "display_name": "Python 3"
    },
    "language_info": {
      "name": "python"
    }
  },
  "cells": [
    {
      "cell_type": "markdown",
      "source": [
        "# Taller SVM\n",
        "\n",
        "David Esteban Casallas Meneses"
      ],
      "metadata": {
        "id": "e5TpZ3llbd1-"
      }
    },
    {
      "cell_type": "markdown",
      "source": [
        "# Code Assigment 1\n",
        "\n",
        "For this assignment you will use the following SVM implementation for classifying these datasets:\n",
        "https://archive.ics.uci.edu/ml/datasets/banknote+authentication\n",
        "\n",
        "\n",
        "https://archive.ics.uci.edu/ml/datasets/Occupancy+Detection+\n",
        "\n",
        "You should:\n",
        "\n",
        "1) Specify which Machine Learning problem are you solving.\n",
        "\n",
        "2) Provide a short summary of the features and the labels you are working on.\n",
        "\n",
        "3) Please answer the following questions: a) Are these datasets linearly separable? b) Are these datasets randomly chosen and c) The sample size is enough to guarantee generalization.\n",
        "\n",
        "4) Provide an explanation how and why the code is working. You can add comments and/or formal explanations into the notebook.\n",
        "\n",
        "5) Show some examples to illustrate that the method is working properly.\n",
        "\n",
        "6) Provide quantitative evidence for generalization using the provided dataset.\n"
      ],
      "metadata": {
        "id": "s-y8Kil2snGk"
      }
    },
    {
      "cell_type": "markdown",
      "source": [
        "1) En ambos casos tenemos un problema de clasificación binaria, en el primero debemos decir si el billete es falso o no, mientras que en el segundo debemos decir si una oficina se encuentra ocupada o no.\n",
        "\n",
        "2) Primer problema: Los atributos que nos dan para clasificar los billetes son:\n",
        "\n",
        "\n",
        "1.   La varianza de imagen Wavelet-transformada, una medida de dispersión de los datos en torno a la media utilizando la transformación de Wavelet para obtener las caracteristicas de una imagen.\n",
        "2.   La asimetría de la imagen Wavelet-transformada, una medida que permite establecer el grado de simetría que presenta la distribución de la imagen utilizando la tranformación de Wavelet.\n",
        "3.  La curtosis de la imagen Wavelet transformada, una medida estadistica que determina el grado de concentración que presentan los valores alrededor de una zona central de la distribución de frecuencias utilizando la transformación de Wavelet.\n",
        "4.  Entropía de la imagen, es una medida estadistica de aleatoriedad que se puede utilizar para caracterizar la textura de la imagen de entrada.\n",
        "5.  Clase, especifica si el elemento es un billete real o no.\n",
        "\n",
        "Y para los label que se manejan en este problema tenemos \"1\" si el billete es verdadero y \"0\" si el billete es falso. Son los mismos valores que tiene el atributo clase.\n",
        "\n",
        "Segundo problema: Los atributos que nos dan para clasificar si la oficina se encuentra ocupada o no son:\n",
        "\n",
        "\n",
        "\n",
        "1.   Fecha-hora:minuto:segundo, medida del tiempo.\n",
        "2.   Temperatura en Celsius, magnitud escalar que se define como la cantidad de energía cínetica de las partículas de una masa gaseosa.\n",
        "3.  Humedad relativa en porcentaje, es la relación entre la presión parcial del vapor del agua y la presión de vapor de equilibrio del agua a una temperatura dada.\n",
        "4.  Luz en Lux, es la medida del nivel de iluminación.\n",
        "5.  Dioxido de carbono en ppm, la medida del nivel de dioxido de carbono en un espacio.\n",
        "6.  La razón de la humedad, es una medida derivada de la temperatura y la humedad relativa dada en kilogramos de vapor de agua sobre kilogramos de aire.\n",
        "7.  La ocupación, especifica si la oficina se encuentra ocupada o no.\n",
        "\n",
        "Y para los label que se manejan en este problema tenemos \"1\" si la oficina está ocupada y \"0\" si la oficina no está ocupada. Son los mismos valores que tiene el atributo ocupación.\n"
      ],
      "metadata": {
        "id": "Xae3-l7Xbx4u"
      }
    },
    {
      "cell_type": "markdown",
      "source": [
        "### Para responder el punto 3"
      ],
      "metadata": {
        "id": "tBXCCOatX4P7"
      }
    },
    {
      "cell_type": "code",
      "source": [
        "import numpy as np\n",
        "import pandas as pd\n",
        "import matplotlib.pyplot as plt\n",
        "\n",
        "data = pd.read_csv('/content/data_banknote_authentication.txt', sep=\",\", header=None)\n",
        "data.columns = [\"a\", \"b\", \"c\", \"d\", \"e\"]"
      ],
      "metadata": {
        "id": "1tP-C4AaHF6e"
      },
      "execution_count": 1,
      "outputs": []
    },
    {
      "cell_type": "code",
      "source": [
        "data.head()"
      ],
      "metadata": {
        "colab": {
          "base_uri": "https://localhost:8080/",
          "height": 206
        },
        "id": "ob-IsrzrHgA9",
        "outputId": "5a0738d9-d8e1-466a-ac25-9ffdd0c4ece7"
      },
      "execution_count": 2,
      "outputs": [
        {
          "output_type": "execute_result",
          "data": {
            "text/plain": [
              "         a       b       c        d  e\n",
              "0  3.62160  8.6661 -2.8073 -0.44699  0\n",
              "1  4.54590  8.1674 -2.4586 -1.46210  0\n",
              "2  3.86600 -2.6383  1.9242  0.10645  0\n",
              "3  3.45660  9.5228 -4.0112 -3.59440  0\n",
              "4  0.32924 -4.4552  4.5718 -0.98880  0"
            ],
            "text/html": [
              "\n",
              "  <div id=\"df-199d2786-1462-4caa-8338-5c475d5a1bee\">\n",
              "    <div class=\"colab-df-container\">\n",
              "      <div>\n",
              "<style scoped>\n",
              "    .dataframe tbody tr th:only-of-type {\n",
              "        vertical-align: middle;\n",
              "    }\n",
              "\n",
              "    .dataframe tbody tr th {\n",
              "        vertical-align: top;\n",
              "    }\n",
              "\n",
              "    .dataframe thead th {\n",
              "        text-align: right;\n",
              "    }\n",
              "</style>\n",
              "<table border=\"1\" class=\"dataframe\">\n",
              "  <thead>\n",
              "    <tr style=\"text-align: right;\">\n",
              "      <th></th>\n",
              "      <th>a</th>\n",
              "      <th>b</th>\n",
              "      <th>c</th>\n",
              "      <th>d</th>\n",
              "      <th>e</th>\n",
              "    </tr>\n",
              "  </thead>\n",
              "  <tbody>\n",
              "    <tr>\n",
              "      <th>0</th>\n",
              "      <td>3.62160</td>\n",
              "      <td>8.6661</td>\n",
              "      <td>-2.8073</td>\n",
              "      <td>-0.44699</td>\n",
              "      <td>0</td>\n",
              "    </tr>\n",
              "    <tr>\n",
              "      <th>1</th>\n",
              "      <td>4.54590</td>\n",
              "      <td>8.1674</td>\n",
              "      <td>-2.4586</td>\n",
              "      <td>-1.46210</td>\n",
              "      <td>0</td>\n",
              "    </tr>\n",
              "    <tr>\n",
              "      <th>2</th>\n",
              "      <td>3.86600</td>\n",
              "      <td>-2.6383</td>\n",
              "      <td>1.9242</td>\n",
              "      <td>0.10645</td>\n",
              "      <td>0</td>\n",
              "    </tr>\n",
              "    <tr>\n",
              "      <th>3</th>\n",
              "      <td>3.45660</td>\n",
              "      <td>9.5228</td>\n",
              "      <td>-4.0112</td>\n",
              "      <td>-3.59440</td>\n",
              "      <td>0</td>\n",
              "    </tr>\n",
              "    <tr>\n",
              "      <th>4</th>\n",
              "      <td>0.32924</td>\n",
              "      <td>-4.4552</td>\n",
              "      <td>4.5718</td>\n",
              "      <td>-0.98880</td>\n",
              "      <td>0</td>\n",
              "    </tr>\n",
              "  </tbody>\n",
              "</table>\n",
              "</div>\n",
              "      <button class=\"colab-df-convert\" onclick=\"convertToInteractive('df-199d2786-1462-4caa-8338-5c475d5a1bee')\"\n",
              "              title=\"Convert this dataframe to an interactive table.\"\n",
              "              style=\"display:none;\">\n",
              "        \n",
              "  <svg xmlns=\"http://www.w3.org/2000/svg\" height=\"24px\"viewBox=\"0 0 24 24\"\n",
              "       width=\"24px\">\n",
              "    <path d=\"M0 0h24v24H0V0z\" fill=\"none\"/>\n",
              "    <path d=\"M18.56 5.44l.94 2.06.94-2.06 2.06-.94-2.06-.94-.94-2.06-.94 2.06-2.06.94zm-11 1L8.5 8.5l.94-2.06 2.06-.94-2.06-.94L8.5 2.5l-.94 2.06-2.06.94zm10 10l.94 2.06.94-2.06 2.06-.94-2.06-.94-.94-2.06-.94 2.06-2.06.94z\"/><path d=\"M17.41 7.96l-1.37-1.37c-.4-.4-.92-.59-1.43-.59-.52 0-1.04.2-1.43.59L10.3 9.45l-7.72 7.72c-.78.78-.78 2.05 0 2.83L4 21.41c.39.39.9.59 1.41.59.51 0 1.02-.2 1.41-.59l7.78-7.78 2.81-2.81c.8-.78.8-2.07 0-2.86zM5.41 20L4 18.59l7.72-7.72 1.47 1.35L5.41 20z\"/>\n",
              "  </svg>\n",
              "      </button>\n",
              "      \n",
              "  <style>\n",
              "    .colab-df-container {\n",
              "      display:flex;\n",
              "      flex-wrap:wrap;\n",
              "      gap: 12px;\n",
              "    }\n",
              "\n",
              "    .colab-df-convert {\n",
              "      background-color: #E8F0FE;\n",
              "      border: none;\n",
              "      border-radius: 50%;\n",
              "      cursor: pointer;\n",
              "      display: none;\n",
              "      fill: #1967D2;\n",
              "      height: 32px;\n",
              "      padding: 0 0 0 0;\n",
              "      width: 32px;\n",
              "    }\n",
              "\n",
              "    .colab-df-convert:hover {\n",
              "      background-color: #E2EBFA;\n",
              "      box-shadow: 0px 1px 2px rgba(60, 64, 67, 0.3), 0px 1px 3px 1px rgba(60, 64, 67, 0.15);\n",
              "      fill: #174EA6;\n",
              "    }\n",
              "\n",
              "    [theme=dark] .colab-df-convert {\n",
              "      background-color: #3B4455;\n",
              "      fill: #D2E3FC;\n",
              "    }\n",
              "\n",
              "    [theme=dark] .colab-df-convert:hover {\n",
              "      background-color: #434B5C;\n",
              "      box-shadow: 0px 1px 3px 1px rgba(0, 0, 0, 0.15);\n",
              "      filter: drop-shadow(0px 1px 2px rgba(0, 0, 0, 0.3));\n",
              "      fill: #FFFFFF;\n",
              "    }\n",
              "  </style>\n",
              "\n",
              "      <script>\n",
              "        const buttonEl =\n",
              "          document.querySelector('#df-199d2786-1462-4caa-8338-5c475d5a1bee button.colab-df-convert');\n",
              "        buttonEl.style.display =\n",
              "          google.colab.kernel.accessAllowed ? 'block' : 'none';\n",
              "\n",
              "        async function convertToInteractive(key) {\n",
              "          const element = document.querySelector('#df-199d2786-1462-4caa-8338-5c475d5a1bee');\n",
              "          const dataTable =\n",
              "            await google.colab.kernel.invokeFunction('convertToInteractive',\n",
              "                                                     [key], {});\n",
              "          if (!dataTable) return;\n",
              "\n",
              "          const docLinkHtml = 'Like what you see? Visit the ' +\n",
              "            '<a target=\"_blank\" href=https://colab.research.google.com/notebooks/data_table.ipynb>data table notebook</a>'\n",
              "            + ' to learn more about interactive tables.';\n",
              "          element.innerHTML = '';\n",
              "          dataTable['output_type'] = 'display_data';\n",
              "          await google.colab.output.renderOutput(dataTable, element);\n",
              "          const docLink = document.createElement('div');\n",
              "          docLink.innerHTML = docLinkHtml;\n",
              "          element.appendChild(docLink);\n",
              "        }\n",
              "      </script>\n",
              "    </div>\n",
              "  </div>\n",
              "  "
            ]
          },
          "metadata": {},
          "execution_count": 2
        }
      ]
    },
    {
      "cell_type": "code",
      "source": [
        "from sklearn.linear_model import Perceptron\n",
        "\n",
        "X = data[[\"a\",\"b\",\"c\",\"d\"]]\n",
        "y = data[\"e\"]\n",
        "\n",
        "# We use the perceptron from sklearn to check linear separability\n",
        "clf = Perceptron(random_state=1)\n",
        "clf.fit(X,y)\n",
        "\n",
        "print(clf.score(X, y))\n",
        "\n",
        "X_1 = X\n",
        "y_1 = y"
      ],
      "metadata": {
        "colab": {
          "base_uri": "https://localhost:8080/"
        },
        "id": "OD02HH3LN5zW",
        "outputId": "f9242b73-9fb0-4f1d-8299-5334c4ceb57d"
      },
      "execution_count": 3,
      "outputs": [
        {
          "output_type": "stream",
          "name": "stdout",
          "text": [
            "0.9883381924198251\n"
          ]
        }
      ]
    },
    {
      "cell_type": "code",
      "source": [
        "from sklearn.metrics import confusion_matrix\n",
        "\n",
        "predicted = clf.predict(X)\n",
        "\n",
        "# We can check the confusion matrix to understand the behavior of the model\n",
        "\n",
        "cm = confusion_matrix(y, predicted)\n",
        " \n",
        "plt.clf() \n",
        "plt.imshow(cm, interpolation='nearest', cmap=plt.cm.Wistia)\n",
        "classNames = ['Negative','Positive']\n",
        "plt.title('Perceptron Confusion Matrix - Entire Data')\n",
        "plt.ylabel('True label')\n",
        "plt.xlabel('Predicted label')\n",
        "tick_marks = np.arange(len(classNames))\n",
        "plt.xticks(tick_marks, classNames, rotation=45)\n",
        "plt.yticks(tick_marks, classNames)\n",
        "s = [['TN','FP'], ['FN', 'TP']]\n",
        "  \n",
        "for i in range(2):\n",
        "    for j in range(2):\n",
        "        plt.text(j,i, str(s[i][j])+\" = \"+str(cm[i][j]))\n",
        "plt.show()"
      ],
      "metadata": {
        "colab": {
          "base_uri": "https://localhost:8080/",
          "height": 324
        },
        "id": "pGXYyKUIPBDX",
        "outputId": "0935819d-336c-4bcf-9fd0-65603baf04bf"
      },
      "execution_count": 4,
      "outputs": [
        {
          "output_type": "display_data",
          "data": {
            "text/plain": [
              "<Figure size 432x288 with 1 Axes>"
            ],
            "image/png": "[encoded data removed]"
          },
          "metadata": {
            "needs_background": "light"
          }
        }
      ]
    },
    {
      "cell_type": "markdown",
      "source": [
        "Note que tanto los falsos positivos cómo los falsos negativos tienen un valor mucho menor a los verdaderos positivos y los verdaderos negativos"
      ],
      "metadata": {
        "id": "NI0Ez3NbU0yI"
      }
    },
    {
      "cell_type": "code",
      "source": [
        "data2 = pd.read_csv('/content/datatraining.txt', sep=\",\", header=None)\n",
        "data2.columns = [\"a\", \"b\", \"c\", \"d\", \"e\",\"f\",\"g\",\"h\"]\n",
        "\n",
        "data3 = pd.read_csv('/content/datatest.txt', sep=\",\", header=None)\n",
        "data3.columns = [\"a\", \"b\", \"c\", \"d\", \"e\",\"f\",\"g\",\"h\"]\n",
        "\n",
        "data3_2 = pd.read_csv('/content/datatest2.txt', sep=\",\", header=None)\n",
        "data3_2.columns = [\"a\", \"b\", \"c\", \"d\", \"e\",\"f\",\"g\",\"h\"]\n",
        "\n",
        "data2 = data2.drop([\"a\"], axis=1)\n",
        "data3 = data3.drop([\"a\"], axis=1)\n",
        "data3_2 = data3_2.drop([\"a\"], axis=1)\n",
        "\n",
        "\n",
        "data2['b'] = data2['b'].apply(lambda x: pd.Timestamp(x).to_julian_date())\n",
        "data3['b'] = data3['b'].apply(lambda x: pd.Timestamp(x).to_julian_date())\n",
        "data3_2['b'] = data3_2['b'].apply(lambda x: pd.Timestamp(x).to_julian_date())\n",
        "\n",
        "data2.head()"
      ],
      "metadata": {
        "colab": {
          "base_uri": "https://localhost:8080/",
          "height": 206
        },
        "id": "G8VKFiw8SWqd",
        "outputId": "1436e721-4054-43e0-fd63-9321228d1bc9"
      },
      "execution_count": 5,
      "outputs": [
        {
          "output_type": "execute_result",
          "data": {
            "text/plain": [
              "              b      c        d      e       f         g  h\n",
              "0  2.457058e+06  23.18  27.2720  426.0  721.25  0.004793  1\n",
              "1  2.457058e+06  23.15  27.2675  429.5  714.00  0.004783  1\n",
              "2  2.457058e+06  23.15  27.2450  426.0  713.50  0.004779  1\n",
              "3  2.457058e+06  23.15  27.2000  426.0  708.25  0.004772  1\n",
              "4  2.457058e+06  23.10  27.2000  426.0  704.50  0.004757  1"
            ],
            "text/html": [
              "\n",
              "  <div id=\"df-a37394fb-0d05-489e-9fea-6839059800ab\">\n",
              "    <div class=\"colab-df-container\">\n",
              "      <div>\n",
              "<style scoped>\n",
              "    .dataframe tbody tr th:only-of-type {\n",
              "        vertical-align: middle;\n",
              "    }\n",
              "\n",
              "    .dataframe tbody tr th {\n",
              "        vertical-align: top;\n",
              "    }\n",
              "\n",
              "    .dataframe thead th {\n",
              "        text-align: right;\n",
              "    }\n",
              "</style>\n",
              "<table border=\"1\" class=\"dataframe\">\n",
              "  <thead>\n",
              "    <tr style=\"text-align: right;\">\n",
              "      <th></th>\n",
              "      <th>b</th>\n",
              "      <th>c</th>\n",
              "      <th>d</th>\n",
              "      <th>e</th>\n",
              "      <th>f</th>\n",
              "      <th>g</th>\n",
              "      <th>h</th>\n",
              "    </tr>\n",
              "  </thead>\n",
              "  <tbody>\n",
              "    <tr>\n",
              "      <th>0</th>\n",
              "      <td>2.457058e+06</td>\n",
              "      <td>23.18</td>\n",
              "      <td>27.2720</td>\n",
              "      <td>426.0</td>\n",
              "      <td>721.25</td>\n",
              "      <td>0.004793</td>\n",
              "      <td>1</td>\n",
              "    </tr>\n",
              "    <tr>\n",
              "      <th>1</th>\n",
              "      <td>2.457058e+06</td>\n",
              "      <td>23.15</td>\n",
              "      <td>27.2675</td>\n",
              "      <td>429.5</td>\n",
              "      <td>714.00</td>\n",
              "      <td>0.004783</td>\n",
              "      <td>1</td>\n",
              "    </tr>\n",
              "    <tr>\n",
              "      <th>2</th>\n",
              "      <td>2.457058e+06</td>\n",
              "      <td>23.15</td>\n",
              "      <td>27.2450</td>\n",
              "      <td>426.0</td>\n",
              "      <td>713.50</td>\n",
              "      <td>0.004779</td>\n",
              "      <td>1</td>\n",
              "    </tr>\n",
              "    <tr>\n",
              "      <th>3</th>\n",
              "      <td>2.457058e+06</td>\n",
              "      <td>23.15</td>\n",
              "      <td>27.2000</td>\n",
              "      <td>426.0</td>\n",
              "      <td>708.25</td>\n",
              "      <td>0.004772</td>\n",
              "      <td>1</td>\n",
              "    </tr>\n",
              "    <tr>\n",
              "      <th>4</th>\n",
              "      <td>2.457058e+06</td>\n",
              "      <td>23.10</td>\n",
              "      <td>27.2000</td>\n",
              "      <td>426.0</td>\n",
              "      <td>704.50</td>\n",
              "      <td>0.004757</td>\n",
              "      <td>1</td>\n",
              "    </tr>\n",
              "  </tbody>\n",
              "</table>\n",
              "</div>\n",
              "      <button class=\"colab-df-convert\" onclick=\"convertToInteractive('df-a37394fb-0d05-489e-9fea-6839059800ab')\"\n",
              "              title=\"Convert this dataframe to an interactive table.\"\n",
              "              style=\"display:none;\">\n",
              "        \n",
              "  <svg xmlns=\"http://www.w3.org/2000/svg\" height=\"24px\"viewBox=\"0 0 24 24\"\n",
              "       width=\"24px\">\n",
              "    <path d=\"M0 0h24v24H0V0z\" fill=\"none\"/>\n",
              "    <path d=\"M18.56 5.44l.94 2.06.94-2.06 2.06-.94-2.06-.94-.94-2.06-.94 2.06-2.06.94zm-11 1L8.5 8.5l.94-2.06 2.06-.94-2.06-.94L8.5 2.5l-.94 2.06-2.06.94zm10 10l.94 2.06.94-2.06 2.06-.94-2.06-.94-.94-2.06-.94 2.06-2.06.94z\"/><path d=\"M17.41 7.96l-1.37-1.37c-.4-.4-.92-.59-1.43-.59-.52 0-1.04.2-1.43.59L10.3 9.45l-7.72 7.72c-.78.78-.78 2.05 0 2.83L4 21.41c.39.39.9.59 1.41.59.51 0 1.02-.2 1.41-.59l7.78-7.78 2.81-2.81c.8-.78.8-2.07 0-2.86zM5.41 20L4 18.59l7.72-7.72 1.47 1.35L5.41 20z\"/>\n",
              "  </svg>\n",
              "      </button>\n",
              "      \n",
              "  <style>\n",
              "    .colab-df-container {\n",
              "      display:flex;\n",
              "      flex-wrap:wrap;\n",
              "      gap: 12px;\n",
              "    }\n",
              "\n",
              "    .colab-df-convert {\n",
              "      background-color: #E8F0FE;\n",
              "      border: none;\n",
              "      border-radius: 50%;\n",
              "      cursor: pointer;\n",
              "      display: none;\n",
              "      fill: #1967D2;\n",
              "      height: 32px;\n",
              "      padding: 0 0 0 0;\n",
              "      width: 32px;\n",
              "    }\n",
              "\n",
              "    .colab-df-convert:hover {\n",
              "      background-color: #E2EBFA;\n",
              "      box-shadow: 0px 1px 2px rgba(60, 64, 67, 0.3), 0px 1px 3px 1px rgba(60, 64, 67, 0.15);\n",
              "      fill: #174EA6;\n",
              "    }\n",
              "\n",
              "    [theme=dark] .colab-df-convert {\n",
              "      background-color: #3B4455;\n",
              "      fill: #D2E3FC;\n",
              "    }\n",
              "\n",
              "    [theme=dark] .colab-df-convert:hover {\n",
              "      background-color: #434B5C;\n",
              "      box-shadow: 0px 1px 3px 1px rgba(0, 0, 0, 0.15);\n",
              "      filter: drop-shadow(0px 1px 2px rgba(0, 0, 0, 0.3));\n",
              "      fill: #FFFFFF;\n",
              "    }\n",
              "  </style>\n",
              "\n",
              "      <script>\n",
              "        const buttonEl =\n",
              "          document.querySelector('#df-a37394fb-0d05-489e-9fea-6839059800ab button.colab-df-convert');\n",
              "        buttonEl.style.display =\n",
              "          google.colab.kernel.accessAllowed ? 'block' : 'none';\n",
              "\n",
              "        async function convertToInteractive(key) {\n",
              "          const element = document.querySelector('#df-a37394fb-0d05-489e-9fea-6839059800ab');\n",
              "          const dataTable =\n",
              "            await google.colab.kernel.invokeFunction('convertToInteractive',\n",
              "                                                     [key], {});\n",
              "          if (!dataTable) return;\n",
              "\n",
              "          const docLinkHtml = 'Like what you see? Visit the ' +\n",
              "            '<a target=\"_blank\" href=https://colab.research.google.com/notebooks/data_table.ipynb>data table notebook</a>'\n",
              "            + ' to learn more about interactive tables.';\n",
              "          element.innerHTML = '';\n",
              "          dataTable['output_type'] = 'display_data';\n",
              "          await google.colab.output.renderOutput(dataTable, element);\n",
              "          const docLink = document.createElement('div');\n",
              "          docLink.innerHTML = docLinkHtml;\n",
              "          element.appendChild(docLink);\n",
              "        }\n",
              "      </script>\n",
              "    </div>\n",
              "  </div>\n",
              "  "
            ]
          },
          "metadata": {},
          "execution_count": 5
        }
      ]
    },
    {
      "cell_type": "code",
      "source": [
        "X = data2[[\"b\",\"c\",\"d\",\"e\",\"f\",\"g\"]]\n",
        "y = data2[\"h\"]\n",
        "\n",
        "\n",
        "clf = Perceptron(random_state=1)\n",
        "clf.fit(X,y)\n",
        "\n",
        "clf.score(X, y)"
      ],
      "metadata": {
        "colab": {
          "base_uri": "https://localhost:8080/"
        },
        "id": "dI0vMfkDTCmA",
        "outputId": "dfeb80a0-25cb-46ba-b059-b70690b2ef81"
      },
      "execution_count": 6,
      "outputs": [
        {
          "output_type": "execute_result",
          "data": {
            "text/plain": [
              "0.7979860002456097"
            ]
          },
          "metadata": {},
          "execution_count": 6
        }
      ]
    },
    {
      "cell_type": "code",
      "source": [
        "predicted = clf.predict(X)\n",
        "\n",
        "cm = confusion_matrix(y, predicted)\n",
        " \n",
        "plt.clf() \n",
        "plt.imshow(cm, interpolation='nearest', cmap=plt.cm.Wistia)\n",
        "classNames = ['Negative','Positive']\n",
        "plt.title('Perceptron Confusion Matrix - Entire Data')\n",
        "plt.ylabel('True label')\n",
        "plt.xlabel('Predicted label')\n",
        "tick_marks = np.arange(len(classNames))\n",
        "plt.xticks(tick_marks, classNames, rotation=45)\n",
        "plt.yticks(tick_marks, classNames)\n",
        "s = [['TN','FP'], ['FN', 'TP']]\n",
        "  \n",
        "for i in range(2):\n",
        "    for j in range(2):\n",
        "        plt.text(j,i, str(s[i][j])+\" = \"+str(cm[i][j]))\n",
        "plt.show()"
      ],
      "metadata": {
        "colab": {
          "base_uri": "https://localhost:8080/",
          "height": 324
        },
        "id": "TbACecvrWrtk",
        "outputId": "4766fc85-0b41-4746-e83a-0347a1ae856f"
      },
      "execution_count": 7,
      "outputs": [
        {
          "output_type": "display_data",
          "data": {
            "text/plain": [
              "<Figure size 432x288 with 1 Axes>"
            ],
            "image/png": "[encoded data removed]"
          },
          "metadata": {
            "needs_background": "light"
          }
        }
      ]
    },
    {
      "cell_type": "markdown",
      "source": [
        "En este caso para el dataset número 2 con solo los datos de entrenamiento tenemos un pesimo rendimiento, el error se concentra en las falsos negativos."
      ],
      "metadata": {
        "id": "p_2KkdmzVCoI"
      }
    },
    {
      "cell_type": "code",
      "source": [
        "data4 = pd.concat([data2,data3,data3_2])\n",
        "\n",
        "data4.head()"
      ],
      "metadata": {
        "colab": {
          "base_uri": "https://localhost:8080/",
          "height": 206
        },
        "id": "ys3G9Fv6n_xy",
        "outputId": "db3b564f-4369-4511-a3d3-297bc02c07e9"
      },
      "execution_count": 8,
      "outputs": [
        {
          "output_type": "execute_result",
          "data": {
            "text/plain": [
              "              b      c        d      e       f         g  h\n",
              "0  2.457058e+06  23.18  27.2720  426.0  721.25  0.004793  1\n",
              "1  2.457058e+06  23.15  27.2675  429.5  714.00  0.004783  1\n",
              "2  2.457058e+06  23.15  27.2450  426.0  713.50  0.004779  1\n",
              "3  2.457058e+06  23.15  27.2000  426.0  708.25  0.004772  1\n",
              "4  2.457058e+06  23.10  27.2000  426.0  704.50  0.004757  1"
            ],
            "text/html": [
              "\n",
              "  <div id=\"df-16e43ae0-0a19-448e-9e69-02331290515f\">\n",
              "    <div class=\"colab-df-container\">\n",
              "      <div>\n",
              "<style scoped>\n",
              "    .dataframe tbody tr th:only-of-type {\n",
              "        vertical-align: middle;\n",
              "    }\n",
              "\n",
              "    .dataframe tbody tr th {\n",
              "        vertical-align: top;\n",
              "    }\n",
              "\n",
              "    .dataframe thead th {\n",
              "        text-align: right;\n",
              "    }\n",
              "</style>\n",
              "<table border=\"1\" class=\"dataframe\">\n",
              "  <thead>\n",
              "    <tr style=\"text-align: right;\">\n",
              "      <th></th>\n",
              "      <th>b</th>\n",
              "      <th>c</th>\n",
              "      <th>d</th>\n",
              "      <th>e</th>\n",
              "      <th>f</th>\n",
              "      <th>g</th>\n",
              "      <th>h</th>\n",
              "    </tr>\n",
              "  </thead>\n",
              "  <tbody>\n",
              "    <tr>\n",
              "      <th>0</th>\n",
              "      <td>2.457058e+06</td>\n",
              "      <td>23.18</td>\n",
              "      <td>27.2720</td>\n",
              "      <td>426.0</td>\n",
              "      <td>721.25</td>\n",
              "      <td>0.004793</td>\n",
              "      <td>1</td>\n",
              "    </tr>\n",
              "    <tr>\n",
              "      <th>1</th>\n",
              "      <td>2.457058e+06</td>\n",
              "      <td>23.15</td>\n",
              "      <td>27.2675</td>\n",
              "      <td>429.5</td>\n",
              "      <td>714.00</td>\n",
              "      <td>0.004783</td>\n",
              "      <td>1</td>\n",
              "    </tr>\n",
              "    <tr>\n",
              "      <th>2</th>\n",
              "      <td>2.457058e+06</td>\n",
              "      <td>23.15</td>\n",
              "      <td>27.2450</td>\n",
              "      <td>426.0</td>\n",
              "      <td>713.50</td>\n",
              "      <td>0.004779</td>\n",
              "      <td>1</td>\n",
              "    </tr>\n",
              "    <tr>\n",
              "      <th>3</th>\n",
              "      <td>2.457058e+06</td>\n",
              "      <td>23.15</td>\n",
              "      <td>27.2000</td>\n",
              "      <td>426.0</td>\n",
              "      <td>708.25</td>\n",
              "      <td>0.004772</td>\n",
              "      <td>1</td>\n",
              "    </tr>\n",
              "    <tr>\n",
              "      <th>4</th>\n",
              "      <td>2.457058e+06</td>\n",
              "      <td>23.10</td>\n",
              "      <td>27.2000</td>\n",
              "      <td>426.0</td>\n",
              "      <td>704.50</td>\n",
              "      <td>0.004757</td>\n",
              "      <td>1</td>\n",
              "    </tr>\n",
              "  </tbody>\n",
              "</table>\n",
              "</div>\n",
              "      <button class=\"colab-df-convert\" onclick=\"convertToInteractive('df-16e43ae0-0a19-448e-9e69-02331290515f')\"\n",
              "              title=\"Convert this dataframe to an interactive table.\"\n",
              "              style=\"display:none;\">\n",
              "        \n",
              "  <svg xmlns=\"http://www.w3.org/2000/svg\" height=\"24px\"viewBox=\"0 0 24 24\"\n",
              "       width=\"24px\">\n",
              "    <path d=\"M0 0h24v24H0V0z\" fill=\"none\"/>\n",
              "    <path d=\"M18.56 5.44l.94 2.06.94-2.06 2.06-.94-2.06-.94-.94-2.06-.94 2.06-2.06.94zm-11 1L8.5 8.5l.94-2.06 2.06-.94-2.06-.94L8.5 2.5l-.94 2.06-2.06.94zm10 10l.94 2.06.94-2.06 2.06-.94-2.06-.94-.94-2.06-.94 2.06-2.06.94z\"/><path d=\"M17.41 7.96l-1.37-1.37c-.4-.4-.92-.59-1.43-.59-.52 0-1.04.2-1.43.59L10.3 9.45l-7.72 7.72c-.78.78-.78 2.05 0 2.83L4 21.41c.39.39.9.59 1.41.59.51 0 1.02-.2 1.41-.59l7.78-7.78 2.81-2.81c.8-.78.8-2.07 0-2.86zM5.41 20L4 18.59l7.72-7.72 1.47 1.35L5.41 20z\"/>\n",
              "  </svg>\n",
              "      </button>\n",
              "      \n",
              "  <style>\n",
              "    .colab-df-container {\n",
              "      display:flex;\n",
              "      flex-wrap:wrap;\n",
              "      gap: 12px;\n",
              "    }\n",
              "\n",
              "    .colab-df-convert {\n",
              "      background-color: #E8F0FE;\n",
              "      border: none;\n",
              "      border-radius: 50%;\n",
              "      cursor: pointer;\n",
              "      display: none;\n",
              "      fill: #1967D2;\n",
              "      height: 32px;\n",
              "      padding: 0 0 0 0;\n",
              "      width: 32px;\n",
              "    }\n",
              "\n",
              "    .colab-df-convert:hover {\n",
              "      background-color: #E2EBFA;\n",
              "      box-shadow: 0px 1px 2px rgba(60, 64, 67, 0.3), 0px 1px 3px 1px rgba(60, 64, 67, 0.15);\n",
              "      fill: #174EA6;\n",
              "    }\n",
              "\n",
              "    [theme=dark] .colab-df-convert {\n",
              "      background-color: #3B4455;\n",
              "      fill: #D2E3FC;\n",
              "    }\n",
              "\n",
              "    [theme=dark] .colab-df-convert:hover {\n",
              "      background-color: #434B5C;\n",
              "      box-shadow: 0px 1px 3px 1px rgba(0, 0, 0, 0.15);\n",
              "      filter: drop-shadow(0px 1px 2px rgba(0, 0, 0, 0.3));\n",
              "      fill: #FFFFFF;\n",
              "    }\n",
              "  </style>\n",
              "\n",
              "      <script>\n",
              "        const buttonEl =\n",
              "          document.querySelector('#df-16e43ae0-0a19-448e-9e69-02331290515f button.colab-df-convert');\n",
              "        buttonEl.style.display =\n",
              "          google.colab.kernel.accessAllowed ? 'block' : 'none';\n",
              "\n",
              "        async function convertToInteractive(key) {\n",
              "          const element = document.querySelector('#df-16e43ae0-0a19-448e-9e69-02331290515f');\n",
              "          const dataTable =\n",
              "            await google.colab.kernel.invokeFunction('convertToInteractive',\n",
              "                                                     [key], {});\n",
              "          if (!dataTable) return;\n",
              "\n",
              "          const docLinkHtml = 'Like what you see? Visit the ' +\n",
              "            '<a target=\"_blank\" href=https://colab.research.google.com/notebooks/data_table.ipynb>data table notebook</a>'\n",
              "            + ' to learn more about interactive tables.';\n",
              "          element.innerHTML = '';\n",
              "          dataTable['output_type'] = 'display_data';\n",
              "          await google.colab.output.renderOutput(dataTable, element);\n",
              "          const docLink = document.createElement('div');\n",
              "          docLink.innerHTML = docLinkHtml;\n",
              "          element.appendChild(docLink);\n",
              "        }\n",
              "      </script>\n",
              "    </div>\n",
              "  </div>\n",
              "  "
            ]
          },
          "metadata": {},
          "execution_count": 8
        }
      ]
    },
    {
      "cell_type": "code",
      "source": [
        "X = data4[[\"c\",\"d\",\"e\",\"f\",\"g\"]]\n",
        "y = data4[\"h\"]\n",
        "\n",
        "\n",
        "clf = Perceptron(random_state=1)\n",
        "clf.fit(X,y)\n",
        "\n",
        "print(clf.score(X, y))\n",
        "\n",
        "X_2 = X\n",
        "y_2 = y"
      ],
      "metadata": {
        "colab": {
          "base_uri": "https://localhost:8080/"
        },
        "id": "svJ9tLD3oIsJ",
        "outputId": "89761a56-4729-42cc-ac7a-da84cdb00521"
      },
      "execution_count": 30,
      "outputs": [
        {
          "output_type": "stream",
          "name": "stdout",
          "text": [
            "0.9886673151750973\n"
          ]
        }
      ]
    },
    {
      "cell_type": "code",
      "source": [
        "predicted = clf.predict(X)\n",
        "\n",
        "cm = confusion_matrix(y, predicted)\n",
        " \n",
        "plt.clf() \n",
        "plt.imshow(cm, interpolation='nearest', cmap=plt.cm.Wistia)\n",
        "classNames = ['Negative','Positive']\n",
        "plt.title('Perceptron Confusion Matrix - Entire Data')\n",
        "plt.ylabel('True label')\n",
        "plt.xlabel('Predicted label')\n",
        "tick_marks = np.arange(len(classNames))\n",
        "plt.xticks(tick_marks, classNames, rotation=45)\n",
        "plt.yticks(tick_marks, classNames)\n",
        "s = [['TN','FP'], ['FN', 'TP']]\n",
        "  \n",
        "for i in range(2):\n",
        "    for j in range(2):\n",
        "        plt.text(j,i, str(s[i][j])+\" = \"+str(cm[i][j]))\n",
        "plt.show()"
      ],
      "metadata": {
        "colab": {
          "base_uri": "https://localhost:8080/",
          "height": 324
        },
        "id": "t4JvYHhFoMCJ",
        "outputId": "ee399d14-f60c-4d67-b627-843306c5c7a8"
      },
      "execution_count": 31,
      "outputs": [
        {
          "output_type": "display_data",
          "data": {
            "text/plain": [
              "<Figure size 432x288 with 1 Axes>"
            ],
            "image/png": "[encoded data removed]"
          },
          "metadata": {
            "needs_background": "light"
          }
        }
      ]
    },
    {
      "cell_type": "markdown",
      "source": [
        "Una vez que agregamos más datos los valores en los que falla disminuyen, es interesante incluso notar que la tendencia a fallar cambia de los falsos negativos a los falsos positivos."
      ],
      "metadata": {
        "id": "-Qg0ma7yVOmY"
      }
    },
    {
      "cell_type": "markdown",
      "source": [
        "A) Para verificar que los datos sean linealmente separables se utiliza el algoritmo del perceptrón creado por Frank Rosenblatt e implementado en la libreria sklearn. En esta implementación el perceptrón no arroja simplemente la recta o un error, más bien retorna la mejor recta que divide el conjunto de los datos y luego podemos verificar si logra clasificar exitosamente cada uno de los datos. Cómo se muestra en las gráficas el perceptrón no encontró una línea recta que pudiera clasificar cada uno de los datos de forma correcta, para el primer dataset encontró una recta con una eficiencia del 98.8% y sin embargo para el segundo dataser solo encontró una con una tasa del 79.9%. Es importante notar que para el segundo dataset no estamos evaluando todos los datos, sin embargo está claro que si una recta no es capaz de separar los subconjuntos de los conjuntos que los cubren entonces no va a existir una recta que separe los conjuntos más grandes.\n",
        "\n",
        "B) Si lo pensamos a gran escala, los dataset no fueron elegidos de forma completamente aleatoria, en el caso de los billetes hablamos de la moneda especifica de un país y además estrictamente en un lapso de tiempo especifico, es decir que intentar clasificar un billete de otro país o del mismo país solo que en otro momento cuándo el diseño de los mismos haya cambiado no va a funcionar. El segundo dataset tiene información de una oficina en una región especifica, es decir que en zonas con diferentes humedades o países en dónde el contenido de CO2 en el aire sea mayor, tendríamos clasificaciones erroneas. Si lo pensamos a pequeña escala en dónde tenemos un control de lo que va a llegar a clasificar el modelo entonces podemos asumir que os datos fueron elegidos de manera aleatoria para ese problema en específico, más aún si no tenemos este criterio básico ni siquiera podríamos crear un modelo ya que es una de las condiciones imprescindibles.\n",
        "\n",
        "C) Si bien se sabe que a mayor cantidad de parametros se aumenta el error en las pruebas y se disminuye el error en el entrenamiento (overfitting), para estos problemas podemos aplicar algoritmos de reducción de dimensionalidad cómo lo es el ánalisis de componentes principales, eliminación de características hacia atrás, relación de valores faltantes y bosque aleatorio. Cosas incluso más elementales cómo evaluar la correlación de los parametros con el objetivo nos ayuda a eliminar posibles parametros que nos provoquen un overfitting. Sin embargo el overfitting ni siquiera es el único de los problemas, y aunque existen condiciones que buscan una formula para la generalización posible de un modelo existen factores qué no se consideran, por el ejemplo que el dataset sea lo suficientmenet diverso.\n",
        "\n",
        "Para el caso del primer dataset al tener una recta con éxito del 98% podríamos pensar que tenemos suficientes datos para generar predicciones decentes, y cómo no es una recta que funciona el 100% de las veces no tenemos razón para sospechar de un overfitting. En el caso del segundo dataset parece que no tenemos suficientes datos, un éxito del 80% para este tipo de clasificaciones no parece muy satisfactorio sin embargo luego de agregar más elementos al dataset de entrenamiento (concatenando los datos de prueba 1 y prueba 2) tenemos ahora una recta que predice el dataset con un 98% de éxito, esto significa que los datos etiquetados para entrenamiento no eran suficientes para tener una buena generalización.\n",
        "\n",
        "En los puntos 4, 5 y 6 vamos a realizar el entrenamiento de los modelos con almenos dos subconjuntos de la base de datos, uno para realizar el entrenamiento y otro para realizar unas pruebas que nos van a ayudar a evaluar la generalización."
      ],
      "metadata": {
        "id": "9Q5qGSo4h-dK"
      }
    },
    {
      "cell_type": "markdown",
      "source": [
        "### Para responder los puntos puntos 4, 5 y 6"
      ],
      "metadata": {
        "id": "6s5n63iLZ-of"
      }
    },
    {
      "cell_type": "code",
      "source": [
        "from sklearn import datasets\n",
        "import matplotlib.pyplot as plt\n",
        "import numpy as np\n",
        "from sklearn.metrics import accuracy_score\n",
        "from sklearn.model_selection import train_test_split"
      ],
      "metadata": {
        "id": "jpiJQymNaZRg"
      },
      "execution_count": 12,
      "outputs": []
    },
    {
      "cell_type": "markdown",
      "source": [
        "4) Debido a qué el método del código proporcionado por el profe tenía problemas desde su planteamiento, vamos entonces a utilizar un planteamiento diferente para crear nuestra Support Vector Machine, en este caso utilizando el método de gradiente en decenso."
      ],
      "metadata": {
        "id": "fHLGaBgWOEqT"
      }
    },
    {
      "cell_type": "code",
      "source": [
        "import numpy as np\n",
        "\n",
        "class SVM:\n",
        "    \n",
        "    def __init__(self, C=1.0):\n",
        "        # Constructor function that initializes the class variables\n",
        "        self.C = C  # error term\n",
        "        self.w = 0\n",
        "        self.b = 0\n",
        "    \n",
        "    def hingeloss(self, w, b, x, y):\n",
        "        # Calculates the Hinge Loss function\n",
        "        reg = 0.5 * (w * w)  # Regularizer term\n",
        "        for i in range(x.shape[0]):\n",
        "            # Optimization term\n",
        "            opt_term = y[i] * ((np.dot(w, x[i])) + b)\n",
        "            # Calculating loss\n",
        "            loss = reg + self.C * max(0, 1 - opt_term)\n",
        "        return loss[0][0]\n",
        "    \n",
        "    def fit(self, X, Y, batch_size=100, learning_rate=0.001, epochs=1000):\n",
        "        # Function that trains the SVM model\n",
        "        n_features = X.shape[1]  # Number of features in X\n",
        "        n_samples = X.shape[0]  # Number of samples in X\n",
        "        c = self.C\n",
        "        ids = np.arange(n_samples)  # Creating ids from 0 to n_samples-1\n",
        "        np.random.shuffle(ids)  # Shuffling the samples randomly\n",
        "        w = np.zeros((1, n_features))  # Creating an array of zeros for weights\n",
        "        b = 0  # Bias initialization\n",
        "        losses = []  # To store losses after each epoch\n",
        "        \n",
        "        # Gradient Descent logic\n",
        "        for i in range(epochs):\n",
        "            # Calculating the Hinge Loss\n",
        "            l = self.hingeloss(w, b, X, Y)\n",
        "            # Appending all losses\n",
        "            losses.append(l)\n",
        "            \n",
        "            # Starting from 0 to the number of samples with batch_size as interval\n",
        "            for batch_initial in range(0, n_samples, batch_size):\n",
        "                gradw = 0  # To store the gradient of w\n",
        "                gradb = 0  # To store the gradient of b\n",
        "                \n",
        "                for j in range(batch_initial, batch_initial+batch_size):\n",
        "                    if j < n_samples:\n",
        "                        x = ids[j]\n",
        "                        ti = Y[x] * (np.dot(w, X[x].T) + b)  # Prediction\n",
        "                        \n",
        "                        if ti > 1:\n",
        "                            gradw += 0\n",
        "                            gradb += 0\n",
        "                        else:\n",
        "                            # Calculating the gradients\n",
        "                            # w.r.t w \n",
        "                            gradw += c * Y[x] * X[x]\n",
        "                            # w.r.t b\n",
        "                            gradb += c * Y[x]\n",
        "                \n",
        "                # Updating weights and bias\n",
        "                w = w - learning_rate * w + learning_rate * gradw\n",
        "                b = b + learning_rate * gradb\n",
        "        \n",
        "        # Storing the final weights and bias\n",
        "        self.w = w\n",
        "        self.b = b\n",
        "        \n",
        "        # Returning the weights, bias and losses\n",
        "        return self.w, self.b, losses\n",
        "    \n",
        "    def predict(self, X):\n",
        "        # Function to predict the output for given input\n",
        "        prediction = np.dot(X, self.w[0]) + self.b  # w.x + b\n",
        "        return np.sign(prediction)\n"
      ],
      "metadata": {
        "id": "1TPjd2-UZ9SA"
      },
      "execution_count": 13,
      "outputs": []
    },
    {
      "cell_type": "markdown",
      "source": [
        "5 y 6) Ahora vamos a utilizar este código para crear dos modelos para nuestros respectivos datasets."
      ],
      "metadata": {
        "id": "M0cTWNWFreQn"
      }
    },
    {
      "cell_type": "code",
      "source": [
        "# Replace the 0 by -1 so the SVM works\n",
        "y_1 = y_1.replace(0,-1)\n",
        "y_2 = y_2.replace(0,-1)\n",
        "\n",
        "# Divide the dataset into training, validation and testing\n",
        "X_1r, X_1t0, y_1r, y_1t0 = train_test_split(X_1, y_1, test_size=0.33, random_state=42)\n",
        "X_1t1, X_1t2, y_1t1, y_1t2 = train_test_split(X_1t0, y_1t0, test_size=0.5, random_state=42)\n",
        "\n",
        "X_2r, X_2t0, y_2r, y_2t0 = train_test_split(X_2, y_2, test_size=0.15, random_state=20)\n",
        "X_2t1, X_2t2, y_2t1, y_2t2 = train_test_split(X_2t0, y_2t0, test_size=0.5, random_state=20)"
      ],
      "metadata": {
        "id": "VndruMGSJYaV"
      },
      "execution_count": 37,
      "outputs": []
    },
    {
      "cell_type": "code",
      "source": [
        "classifier_1 = SVM()\n",
        "classifier_2 = SVM()\n",
        "\n",
        "trainer1 = classifier_1.fit(np.array(X_1r),np.array(y_1r))\n",
        "trainer2 = classifier_2.fit(np.array(X_2r),np.array(y_2r))"
      ],
      "metadata": {
        "id": "ch8yibfHapnA"
      },
      "execution_count": 38,
      "outputs": []
    },
    {
      "cell_type": "markdown",
      "source": [
        "Luego de entrenar el modelo ahora podemos utilizar una función de error para saber qué tan bueno es el modelo que hemos creado. En particular para el punto 5) vamos a tomar algunos valores de nuestros conjunto de prueba de las bases de datos y observar cómo son clasificados por los modelos. Para el punto 6) vamos a comprobar qué tan bueno fue el modelo en el paso de verificación y luego en el paso de pueba, note que estos valores no deberian ser ni muy diferentes ni muy grandes."
      ],
      "metadata": {
        "id": "gqjqVoXaMcRh"
      }
    },
    {
      "cell_type": "code",
      "source": [
        "#Validation\n",
        "guess1 = classifier_1.predict(np.array(X_1t1))\n",
        "print(np.sum((guess1 - np.array(y_1t1))**2)/len(np.array(y_1t1)))\n",
        "\n",
        "#Test\n",
        "guess1 = classifier_1.predict(np.array(X_1t2))\n",
        "print(np.sum((guess1 - np.array(y_1t2))**2)/len(np.array(y_1t2)))"
      ],
      "metadata": {
        "colab": {
          "base_uri": "https://localhost:8080/"
        },
        "id": "m09mcuypbTKC",
        "outputId": "950311af-92df-4f0e-c7ba-7355b4996f00"
      },
      "execution_count": 39,
      "outputs": [
        {
          "output_type": "stream",
          "name": "stdout",
          "text": [
            "0.05309734513274336\n",
            "0.01762114537444934\n"
          ]
        }
      ]
    },
    {
      "cell_type": "markdown",
      "source": [
        "5) Acá podemos evidenciar dos ejemplos claros en dónde el modelo acertó con la clasificación para el dataset de la clasificaciónde billetes."
      ],
      "metadata": {
        "id": "3zArScgFP5gS"
      }
    },
    {
      "cell_type": "code",
      "source": [
        "print(\"Parametros: \", np.array(X_1t2)[0])\n",
        "print(\"Predicción: \", guess1[0])\n",
        "print(\"Clasificación: \", np.array(y_1t2)[0])\n",
        "print(\"\\n\")\n",
        "print(\"Parametros: \", np.array(X_1t2)[200])\n",
        "print(\"Predicción: \", guess1[200])\n",
        "print(\"Clasificación: \", np.array(y_1t2)[200])"
      ],
      "metadata": {
        "colab": {
          "base_uri": "https://localhost:8080/"
        },
        "id": "5EPmbSf1PO24",
        "outputId": "ceb00af5-3c63-4b5f-dcd3-1bb315babf31"
      },
      "execution_count": 40,
      "outputs": [
        {
          "output_type": "stream",
          "name": "stdout",
          "text": [
            "Parametros:  [-1.5621  -2.2121   4.2591   0.27972]\n",
            "Predicción:  1.0\n",
            "Clasificación:  1\n",
            "\n",
            "\n",
            "Parametros:  [ 1.7939  -1.1174   1.5454  -0.26079]\n",
            "Predicción:  -1.0\n",
            "Clasificación:  -1\n"
          ]
        }
      ]
    },
    {
      "cell_type": "code",
      "source": [
        "#Validation\n",
        "guess2 = classifier_2.predict(np.array(X_2t1))\n",
        "print(np.sum((guess2 - np.array(y_2t1))**2)/len(np.array(y_2t1)))\n",
        "\n",
        "#Test\n",
        "guess2 = classifier_2.predict(np.array(X_2t2))\n",
        "print(np.sum((guess2 - np.array(y_2t2))**2)/len(np.array(y_2t2)))"
      ],
      "metadata": {
        "colab": {
          "base_uri": "https://localhost:8080/"
        },
        "id": "7UFNYRU_sV2A",
        "outputId": "cdd6e111-087f-4013-fcb8-8f78c08f904e"
      },
      "execution_count": 42,
      "outputs": [
        {
          "output_type": "stream",
          "name": "stdout",
          "text": [
            "0.21530479896238652\n",
            "0.21530479896238652\n"
          ]
        }
      ]
    },
    {
      "cell_type": "markdown",
      "source": [
        "5) Acá podemos evidenciar dos ejemplos claros en dónde el modelo acertó con la clasificación para el dataset de la clasificaciónde de la presencia de personas en una oficina."
      ],
      "metadata": {
        "id": "4ctV4dRQWf7Z"
      }
    },
    {
      "cell_type": "code",
      "source": [
        "print(\"Parametros: \", np.array(X_2t2)[0])\n",
        "print(\"Predicción: \", guess2[0])\n",
        "print(\"Clasificación: \", np.array(y_2t2)[0])\n",
        "print(\"\\n\")\n",
        "print(\"Parametros: \", np.array(X_2t2)[124])\n",
        "print(\"Predicción: \", guess2[124])\n",
        "print(\"Clasificación: \", np.array(y_2t2)[124])"
      ],
      "metadata": {
        "colab": {
          "base_uri": "https://localhost:8080/"
        },
        "id": "QVJ1EeuLQWEP",
        "outputId": "6327b0e2-8554-456a-e45b-663cb50db365"
      },
      "execution_count": 43,
      "outputs": [
        {
          "output_type": "stream",
          "name": "stdout",
          "text": [
            "Parametros:  [2.14450000e+01 2.40500000e+01 4.66000000e+02 8.68500000e+02\n",
            " 3.79718715e-03]\n",
            "Predicción:  1.0\n",
            "Clasificación:  1\n",
            "\n",
            "\n",
            "Parametros:  [2.05500000e+01 2.42450000e+01 0.00000000e+00 5.63500000e+02\n",
            " 3.62205227e-03]\n",
            "Predicción:  -1.0\n",
            "Clasificación:  -1\n"
          ]
        }
      ]
    },
    {
      "cell_type": "markdown",
      "source": [
        "6) Para este punt ejecuté el código del modelo almenos unas tres veces, en todas ellas el primer dataset tuvo un desempeño superior al 95% de las predicciones para la validación y la prueba. Sin embargo en el caso del segundo dataset no fue el caso, en un primer momento el tamaño del conjunto de entrenamiento era del 67% siendo el de validación y prueba de 16%, pero la taza de exito para ambas pruebas era de menos del 50%. Para intentar mejorar el rendimiento aumenté el tamaño del conjunto de entrenamiento al 85% arriesgando overfitting, sin embargo incluso de esa manera el modelo consiguió únicamente un exito del 79%, es decir que al menos desde mi perspectiva no se consiguió una generalización adecuada. El mejor modelo obtenido para este segundo dataset fue cuándo se entrenó utilizando los datos de entrenamiento y los de prueba 1, dejando los datos de prueba 2 como conjunto de validación y prueba; aunque este resultado aparentara una mejor generalización es sospechoso que al seleccionar aleatoriamente el conjunto de entrenamiento dada la suma de todos los datos, los modelos construidos empeoren en su rendimiento. Esto puede ser explicado porque los datos de prueba 1 o prueba 2 no son aleatoriamente seleccionados o alteran el equilibrio de la diversidad en la muestra."
      ],
      "metadata": {
        "id": "9PL4YhXkMkCm"
      }
    }
  ]
}
