{
  "nbformat": 4,
  "nbformat_minor": 0,
  "metadata": {
    "colab": {
      "provenance": []
    },
    "kernelspec": {
      "name": "python3",
      "display_name": "Python 3"
    },
    "language_info": {
      "name": "python"
    }
  },
  "cells": [
    {
      "cell_type": "markdown",
      "source": [
        "### Imports"
      ],
      "metadata": {
        "id": "Wwn-A5JJA3hO"
      }
    },
    {
      "cell_type": "code",
      "source": [
        "import pandas as pd\n",
        "import numpy as np\n",
        "import sklearn\n",
        "import matplotlib.pyplot as plt\n",
        "from scipy.optimize import minimize\n",
        "import math\n",
        "from sklearn.preprocessing import normalize\n",
        "from functools import partial"
      ],
      "metadata": {
        "id": "7IiTv05mA3GY"
      },
      "execution_count": 16,
      "outputs": []
    },
    {
      "cell_type": "markdown",
      "source": [
        "### Ejercicio 1.2\n"
      ],
      "metadata": {
        "id": "T9LECsYRSPvM"
      }
    },
    {
      "cell_type": "markdown",
      "source": [
        "Suponga que vamos a utilizar un perceptrón para detectar mensajes de spam. Digamos que cada mensaje en el correo está representado por una frecuencia de ocurrencias de palabras clave, y que el output es +1 si el mensaje se considera spam.\n",
        "\n",
        "a) ¿Puede pensar en algunas palabras clave que terminen teniendo un peso positivo considerable en el perceptrón?\n",
        "\n",
        "b) ¿Qué tal algunas palabras clave con peso negativo?\n",
        "\n",
        "c) ¿Qué parametro en el perceptrón afecta directamente cuantos mensajes frontera terminan siendo clasificados como spam?"
      ],
      "metadata": {
        "id": "kRr-md91UMwk"
      }
    },
    {
      "cell_type": "markdown",
      "source": [
        "**Respuestas**:\n",
        "\n",
        "a) Gratis, barato, gana, !!!, deuda, ganar, enlace, bono, ganador.\n",
        "\n",
        "b) Saludo, cordialmente, cordial, estudiante, unal, Universidad, el, la, fecha, David Casallas.\n",
        "\n",
        "c) El parametro del bias, pues de él depende qué tan permisivo es el perceptrón para clasificar mensajes como spam o no spam, es decir qué tan similar puede ser un mensaje a lo que consideramos spam pero sin serlo."
      ],
      "metadata": {
        "id": "ZeammlBCWHAs"
      }
    },
    {
      "cell_type": "markdown",
      "source": [
        "### Ejercicio 1.3"
      ],
      "metadata": {
        "id": "Y_Bns1FldPbd"
      }
    },
    {
      "cell_type": "markdown",
      "source": [
        "La regla de actualización por peso en (1.3) tiene una buena interpretación de que se mueve en la dirección de clasificar x(t) correctamente.\n",
        "\n",
        "a) Muestre que y(t)w^T(t)x(t) < 0\n",
        "\n",
        "b) Muestre que y(t)w^T(t+1)x(t) > y(t)w^T(t)x(t)\n",
        "\n",
        "c) En lo que respecta a clasificar a x(t), argumente que moverse de w(t) a w(t+1) es un movimiento en \"la dirección correcta\"."
      ],
      "metadata": {
        "id": "g9QWJVredZZg"
      }
    },
    {
      "cell_type": "markdown",
      "source": [
        "**Respuestas**:\n",
        "\n",
        "a) Si x(t) no estuviera clasificado correctamente por w(t), entonces w^T(t)x(t) tiene diferente signo a y(t), por lo tanto y(t)w^T(t)x(t) < 0.\n",
        "\n",
        "b) Empecemos con: y(t)w^T(t+1)x(t) = y(t)(w(t)+y(t)x(t))^T x(t) = y(t)(w^T(t) + y(t)x^T(t)) x(t) = y(t)w^T(t)x(t) + y(t)y(t)x^T(t)x(t) > y(t)w^T(t)x(t) pues y(t)y(t)x^T(t)x(t) es mayor o igual que 0.\n",
        "\n",
        "c) Del anterior punto sabemos que con cada iteración y(t)w^T(t)x(t) va aumentando. \n",
        "\n",
        "Vamos ahora a pensar en casos, primero sí y(t) es positivo, pero w^T(t)x(t) es negativo, movemos w^T(t)x(t) en dirección positiva aumentando su valor.\n",
        "\n",
        "Sí y(t) es negativo, pero w^T(t)x(t) es positivo, entonces el aumento de y(t)w^T(t)x(t) significa que w^T(t)x(t) está decreciendo, por lo tanto se mueve hacia la región negativa.\n",
        "\n",
        "Así que al movernos de w(t) a w(t+1), estamos haciendo un movimiento \"en la dirección ccorrecta\" almenos en lo que respecta a clasificar a x(t)."
      ],
      "metadata": {
        "id": "HTuCxMOgfp2m"
      }
    },
    {
      "cell_type": "markdown",
      "source": [
        "### Ejejercicio 1.10"
      ],
      "metadata": {
        "id": "BiRUXbzU9n76"
      }
    },
    {
      "cell_type": "markdown",
      "source": [
        "Aquí hay un experimento que ilustra la diferencia entre un único bin y multiples bins. Corra una simulación a computador tirando 1000 monedas justas. Corra cada moneda independientemente 10 veces. Concentremonos en 3 monedas de la sigiente forma: C1 es la primera moneda tirada, Crand es una moneda que usted elige aleatoriamente, Cmin es la moneda que tuvo la minima frecuencia de caras. Sea V1, Vrand y Vmin la fracción de caras que se obtuvo de las respectivas 3 monedas.\n",
        "\n",
        "a) Qué es miu para las 3 monedas seleccionadas?\n",
        "\n",
        "b) Repite el experimento a una escala mayor (por ejemplo 100000 veces) para obtener diferentes instancias de las Vs y plotea el histograma de las distribuciones de V1, V rand y Vmin. Note que Crand y Cmin puede cambiar en diferentes ejecuciones.\n",
        "\n",
        "c) Utilizando (b) plotee el estimado para P[|v-miu|>epsilon] como una función de epsilon junto con la cota de Hoeffding 2e^(-2e^(2)N)\n",
        "\n",
        "d) Cuál de las monedas obedece la cota de Hoeffding y cuál no?\n",
        "\n",
        "e) Relacione la parte (d) a multiples bins en la figura 1.10"
      ],
      "metadata": {
        "id": "w9V4Pzxy953J"
      }
    },
    {
      "cell_type": "code",
      "source": [
        "def flip_coins(total_coins):\n",
        "    hts = np.zeros(total_coins)\n",
        "    probs = np.random.uniform(size=total_coins)\n",
        "    hts[probs > 0.5] = 1\n",
        "    return hts\n",
        "\n",
        "def run_once(total_coins, total_flips, print_freq = False):\n",
        "    crand = np.random.choice(total_coins)\n",
        "    hts_sum = np.zeros(total_coins)\n",
        "    \n",
        "    for flip in range(total_flips):\n",
        "        hts_sum = hts_sum + flip_coins(total_coins)\n",
        "    \n",
        "    hts_freq = hts_sum/total_flips\n",
        "    \n",
        "    v1 = hts_freq[0]\n",
        "    vrand = hts_freq[crand]\n",
        "    cmin = np.argmin(hts_sum)\n",
        "    vmin = hts_freq[cmin]\n",
        "    \n",
        "    if print_freq:\n",
        "        print('Frecuencia de la primera moneda: ',v1)\n",
        "        print('Frecuencia para moenda aleatoria: id({})-freq({})'.format(crand, vrand))\n",
        "        print('Frecuencia de la moneda con la frecuencia mínima: id({})-freq({})'.format(cmin, vmin))\n",
        "    return v1,vrand,vmin\n",
        "\n",
        "def hoeffding_bound(epsilon, n):\n",
        "    return 2.0*np.exp(-2.0*n*epsilon**2)"
      ],
      "metadata": {
        "id": "5qeel3PaAizQ"
      },
      "execution_count": 30,
      "outputs": []
    },
    {
      "cell_type": "markdown",
      "source": [
        "**Respuestas**:\n",
        "\n",
        "a) El miu para las 3 monedas es todas 0.5 pues todas las monedas son justas"
      ],
      "metadata": {
        "id": "EzPIXIjoADnP"
      }
    },
    {
      "cell_type": "code",
      "execution_count": 55,
      "metadata": {
        "id": "FhTlmjQUSFTm",
        "colab": {
          "base_uri": "https://localhost:8080/"
        },
        "outputId": "f50d73e6-1064-4ce1-9b21-b1a6b270a898"
      },
      "outputs": [
        {
          "output_type": "stream",
          "name": "stdout",
          "text": [
            "Frecuencia de la primera moneda:  0.5\n",
            "Frecuencia para moenda aleatoria: id(349)-freq(0.6)\n",
            "Frecuencia de la moneda con la frecuencia mínima: id(455)-freq(0.0)\n"
          ]
        },
        {
          "output_type": "execute_result",
          "data": {
            "text/plain": [
              "(0.5, 0.6, 0.0)"
            ]
          },
          "metadata": {},
          "execution_count": 55
        }
      ],
      "source": [
        "n_monedas = 1000\n",
        "n_tiros = 10\n",
        "run_once(n_monedas, n_tiros, True)"
      ]
    },
    {
      "cell_type": "markdown",
      "source": [
        "b)"
      ],
      "metadata": {
        "id": "cvLtyQlPBRy5"
      }
    },
    {
      "cell_type": "code",
      "source": [
        "# Exercise 1.10 (b) \n",
        "total_coins = 1000\n",
        "total_flips = 10\n",
        "total_runs = 100000\n",
        "v1s, vrands, vmins = [],[],[]\n",
        "for run in range(total_runs):\n",
        "    v1,vrand,vmin = run_once(total_coins, total_flips)\n",
        "    v1s.append(v1)\n",
        "    vrands.append(vrand)\n",
        "    vmins.append(vmin)\n",
        "\n",
        "fig, axs = plt.subplots(1,3,sharey=True, tight_layout=True)\n",
        "n_bins = 10\n",
        "axs[0].hist(v1s,bins=n_bins)\n",
        "axs[1].hist(vrands,bins=n_bins)\n",
        "axs[2].hist(vmins,bins=n_bins)\n",
        "print()"
      ],
      "metadata": {
        "colab": {
          "base_uri": "https://localhost:8080/",
          "height": 505
        },
        "id": "zffU6WivBRAp",
        "outputId": "437da8bd-dba2-4215-afef-a7cd89dcc329"
      },
      "execution_count": 32,
      "outputs": [
        {
          "output_type": "stream",
          "name": "stdout",
          "text": [
            "\n"
          ]
        },
        {
          "output_type": "display_data",
          "data": {
            "text/plain": [
              "<Figure size 640x480 with 3 Axes>"
            ],
            "image/png": "[encoded data removed]"
          },
          "metadata": {}
        }
      ]
    },
    {
      "cell_type": "markdown",
      "source": [
        "c)"
      ],
      "metadata": {
        "id": "pmA9MZMZCnPz"
      }
    },
    {
      "cell_type": "code",
      "source": [
        "eps = np.arange(0.0,0.5,0.05)\n",
        "bounds = hoeffding_bound(eps, total_flips)\n",
        "v1s, vrands, vmins = np.array(v1s), np.array(vrands), np.array(vmins)\n",
        "v1d = np.abs(v1s-0.5)\n",
        "vrandd = np.abs(vrands-0.5)\n",
        "vmind = np.abs(vmins-0.5)\n",
        "\n",
        "p1, prand, pmin = np.zeros(len(eps)),np.zeros(len(eps)),np.zeros(len(eps))\n",
        "\n",
        "for idx in range(eps.shape[0]):\n",
        "    ep = eps[idx]\n",
        "    p1[idx] = np.sum(v1d > ep)/total_runs\n",
        "    prand[idx] = np.sum(vrandd > ep)/total_runs\n",
        "    pmin[idx] = np.sum(vmind > ep)/total_runs\n",
        "    \n",
        "plt.plot(eps, bounds, marker='o', markerfacecolor='blue', markersize=8, color='black', label='Cota de Hoeffding')\n",
        "plt.plot(eps, p1, marker='', color='r', linewidth=3, label='Primera moneda')\n",
        "plt.plot(eps, prand, marker='', color='g', linewidth=2, linestyle='dashed', label='Moneda Aleatoria')\n",
        "plt.plot(eps, pmin, marker='', color='y', linewidth=1, label='Moneda con la frecuencia mínima')\n",
        "plt.legend()"
      ],
      "metadata": {
        "colab": {
          "base_uri": "https://localhost:8080/",
          "height": 448
        },
        "id": "S0SFNkoQCmml",
        "outputId": "d762577b-e0fd-45b6-d16a-954263dd5ceb"
      },
      "execution_count": 62,
      "outputs": [
        {
          "output_type": "execute_result",
          "data": {
            "text/plain": [
              "<matplotlib.legend.Legend at 0x7f824777db40>"
            ]
          },
          "metadata": {},
          "execution_count": 62
        },
        {
          "output_type": "display_data",
          "data": {
            "text/plain": [
              "<Figure size 640x480 with 1 Axes>"
            ],
            "image/png": "[encoded data removed]"
          },
          "metadata": {}
        }
      ]
    },
    {
      "cell_type": "markdown",
      "source": [
        "d) La primera y la moneda aleatoria son acotadas por Hoeffding. La moneda con la frecuencia mínima no obdece la cota de Hoeffding debido a que fue elegida luego de realizar el experimento, lo cuál no obedece la primera condición de Hoeffding que es la de fijar la hipotesis antes de sacar las muestras."
      ],
      "metadata": {
        "id": "1mHGeoP4Dfti"
      }
    },
    {
      "cell_type": "markdown",
      "source": [
        "e) Cuando elegimos la moneda que tiene la menor frecuencía de caras es como elegir el bin de los 1000 bins, sin embargo elegimos el bin luego de las muestras. Las otras dos monedas se toman antes de las muestras, es decir tomar el bin antes de."
      ],
      "metadata": {
        "id": "Ncc5gMAtD9do"
      }
    },
    {
      "cell_type": "markdown",
      "source": [
        "### Ejercicio 1.11"
      ],
      "metadata": {
        "id": "F4aiKTd1FGkq"
      }
    },
    {
      "cell_type": "markdown",
      "source": [
        "Nos dan un conjunto de datos D de 25 ejemplos de entrenamiento para una función objetivo desconocida f:X -> Y, donde X=R, Y = {-1,+1}. Para aprender f, utilizamos un conjunto hipotesis simple H = {h_1,h_2} donde h_1 es la función constante +1 y h_2 es la función constante -1.\n",
        "\n",
        "Nosotros consideramos 2 algoritmos de aprendizaje, S (inteligente) y C(loco). S elige la hipotesis  que está de acuerdo con la mayoría de D y C elige la otra hipotesis deliveradamente. Veamos cómo estos algoritmos se desempeñan fuero de las pruebas de un punto de vista deterministico y ptobabilistico. Asuma que en el punto de vista probabilistico hay una distribución en X y sea P[f(x) = +1] = p\n",
        "\n",
        "a) Puede S producir una hipotesis que es garantizada para desempeñarse fuera de D en puntos aleatorios?\n",
        "\n",
        "b) Asuma que para el resto del ejercicio todos los ejemplos en D tienen y_n = +1. Es posible que la hipotesis que produce C sea mejor que la de S?\n",
        "\n",
        "c)Si p=0.9, cuál es la probabilidad de que S porduzca una mejor hipotesis que C?\n",
        "\n",
        "d) Existe un valor de p para el cual C produce una mejor hipotesis que S?"
      ],
      "metadata": {
        "id": "WISx2QwVFLS4"
      }
    },
    {
      "cell_type": "markdown",
      "source": [
        "**Respuestas**:\n",
        "\n",
        "a) S no puede producir una hipotesis que garantiza un mejor desempeño fuera de D. Note que una función que elija aleatoriamente tendría mejor desempeño que S, pues si para D todos los resultados son +1, entonces S jamás va a predecir un -1.\n",
        "\n",
        "b) Es posible que C produzca una mejor hipotesis que S, precisamente por lo explicado en (a)\n",
        "\n",
        "c) Si todo punto en D tiene 1, entonces S elige h_1 y C elige h_2, así que fuera de D h_1 tiene un chance del 90% para coincidir con f, mientras que h_2 tiene solo 10% de chance, así que S siempre tendrá una mejor hipotesis que C.\n",
        "\n",
        "d) Del problema anterior sabemos que cuando p<0.5 entonces C tendrá una mejor hipotesis que S, pues C siempre produce h_2 que va a coincidir mejor con f que h_1 si p<0.5"
      ],
      "metadata": {
        "id": "VodiCwAjG1qZ"
      }
    },
    {
      "cell_type": "markdown",
      "source": [
        "### Ejercicio 1.12"
      ],
      "metadata": {
        "id": "D1ZKyUG-IAl3"
      }
    },
    {
      "cell_type": "markdown",
      "source": [
        "Un amigo decide pedirte ayuda con un problema de aprendizaje. Te dice que la finción objetivo f es completamente desconocida, pero tiene 4000 puntos de datos. Está dispuesto a pagarte para resolver este problema y producir para él un g que se aproxime a f. Qué es lo mejor que puedes hacer para tu amigo de entre lo siguiente:\n",
        "\n",
        "a) Luego de aprender le vas a dar un g que garantizado aproxima a f fuera de la muestra.\n",
        "\n",
        "b) Luego de aprender le vas a dar un g, y con alta probabilidad de que el g que produzcas se aproxime a f fuera de la muestra.\n",
        "\n",
        "c) Un de dos cosas, la primera es que produces una hipotesis g y la segunda es que vas a declarar que fallaste. Si retornas la hipotesis g, entonces hay una alta probabilidad de que la g que produzcas se aproxime a f fuera de la muestra."
      ],
      "metadata": {
        "id": "ULs4PxL4IGCO"
      }
    },
    {
      "cell_type": "markdown",
      "source": [
        "**Respuesta**:\n",
        "\n",
        "Lo mejor que puedo prometer es c). Primero que anda la función objetivo f puede ser tan complicada que no se pueda aprender de ninguna forma. Segundo si se puede aprender y producir una hipotesis g, entonces como hay muchos puntos de datos, la probabilidad de que g coincida con f es bastante alta. Esto fundamentado en la desigualdad de Hoeffding y que el error de g puede ser pequeño debido a que tenemos un dataset grande."
      ],
      "metadata": {
        "id": "XOBtojSeJnoL"
      }
    }
  ]
}